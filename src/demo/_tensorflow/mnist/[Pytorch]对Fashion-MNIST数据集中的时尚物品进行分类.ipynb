{
 "cells": [
  {
   "cell_type": "markdown",
   "metadata": {},
   "source": [
    "# 用pytorch对Fashion-MNIST数据集中的时尚物品进行分类"
   ]
  },
  {
   "cell_type": "markdown",
   "metadata": {},
   "source": [
    "# 1 下载Fasion-MNIST数据集"
   ]
  },
  {
   "cell_type": "code",
   "execution_count": 3,
   "metadata": {},
   "outputs": [],
   "source": [
    "import torch  # 导入pytorch\n",
    "from torch import nn, optim  # 导入神经网络与优化器对应的类\n",
    "import torch.nn.functional as F \n",
    "from torchvision import datasets, transforms ## 导入数据集与数据预处理的方法"
   ]
  },
  {
   "cell_type": "code",
   "execution_count": 4,
   "metadata": {},
   "outputs": [
    {
     "name": "stdout",
     "output_type": "stream",
     "text": [
      "Downloading http://fashion-mnist.s3-website.eu-central-1.amazonaws.com/train-images-idx3-ubyte.gz to dataset/FashionMNIST\\raw\\train-images-idx3-ubyte.gz\n"
     ]
    },
    {
     "name": "stderr",
     "output_type": "stream",
     "text": [
      "100%|██████████████████████████▉| 26419200/26421880 [07:01<00:00, 30937.65it/s]"
     ]
    },
    {
     "name": "stdout",
     "output_type": "stream",
     "text": [
      "Extracting dataset/FashionMNIST\\raw\\train-images-idx3-ubyte.gz\n",
      "Downloading http://fashion-mnist.s3-website.eu-central-1.amazonaws.com/train-labels-idx1-ubyte.gz to dataset/FashionMNIST\\raw\\train-labels-idx1-ubyte.gz\n"
     ]
    },
    {
     "name": "stderr",
     "output_type": "stream",
     "text": [
      "\n",
      "0it [00:00, ?it/s]\n",
      "  0%|                                                | 0/29515 [00:00<?, ?it/s]\n",
      " 56%|██████████████████▎              | 16384/29515 [00:00<00:00, 83645.42it/s]\n",
      "32768it [00:00, 42307.25it/s]                                                  "
     ]
    },
    {
     "name": "stdout",
     "output_type": "stream",
     "text": [
      "Extracting dataset/FashionMNIST\\raw\\train-labels-idx1-ubyte.gz\n",
      "Downloading http://fashion-mnist.s3-website.eu-central-1.amazonaws.com/t10k-images-idx3-ubyte.gz to dataset/FashionMNIST\\raw\\t10k-images-idx3-ubyte.gz\n"
     ]
    },
    {
     "name": "stderr",
     "output_type": "stream",
     "text": [
      "\n",
      "0it [00:00, ?it/s]\n",
      "  0%|                                              | 0/4422102 [00:00<?, ?it/s]\n",
      "  0%|                               | 16384/4422102 [00:00<01:20, 54638.53it/s]\n",
      "  1%|▎                              | 49152/4422102 [00:01<01:09, 63352.56it/s]\n",
      "  2%|▋                             | 106496/4422102 [00:01<00:55, 77834.23it/s]\n",
      "  4%|█▏                            | 172032/4422102 [00:01<00:44, 95043.84it/s]\n",
      "  5%|█▌                           | 237568/4422102 [00:02<00:37, 112447.79it/s]\n",
      "  8%|██▏                          | 335872/4422102 [00:02<00:29, 138927.16it/s]\n",
      " 10%|██▉                          | 442368/4422102 [00:02<00:23, 168364.40it/s]\n",
      " 13%|███▋                         | 557056/4422102 [00:03<00:19, 200547.35it/s]\n",
      " 15%|████▍                        | 671744/4422102 [00:03<00:16, 233221.41it/s]\n",
      " 18%|█████▏                       | 794624/4422102 [00:03<00:12, 283998.14it/s]\n",
      " 19%|█████▍                       | 835584/4422102 [00:03<00:11, 302434.13it/s]\n",
      " 21%|██████                       | 925696/4422102 [00:04<00:10, 320198.42it/s]\n",
      " 24%|██████▋                     | 1056768/4422102 [00:04<00:08, 411372.15it/s]\n",
      " 25%|███████                     | 1122304/4422102 [00:04<00:09, 344258.59it/s]\n",
      " 27%|███████▌                    | 1204224/4422102 [00:04<00:08, 364030.48it/s]\n",
      " 28%|███████▉                    | 1253376/4422102 [00:05<00:15, 210384.42it/s]\n",
      " 33%|█████████▏                  | 1458176/4422102 [00:05<00:10, 277136.88it/s]\n",
      " 34%|█████████▋                  | 1523712/4422102 [00:05<00:09, 314463.33it/s]\n",
      " 36%|██████████                  | 1581056/4422102 [00:05<00:11, 251414.79it/s]\n",
      " 38%|██████████▋                 | 1687552/4422102 [00:05<00:09, 301025.64it/s]\n",
      " 39%|██████████▉                 | 1736704/4422102 [00:06<00:08, 321312.40it/s]\n",
      " 41%|███████████▌                | 1818624/4422102 [00:06<00:08, 307259.58it/s]\n",
      " 44%|████████████▎               | 1949696/4422102 [00:06<00:06, 361311.90it/s]\n",
      " 45%|████████████▋               | 1998848/4422102 [00:06<00:06, 362205.83it/s]\n",
      " 46%|████████████▉               | 2048000/4422102 [00:07<00:09, 253843.37it/s]\n",
      " 50%|█████████████▉              | 2203648/4422102 [00:07<00:07, 299634.55it/s]\n",
      " 52%|██████████████▌             | 2293760/4422102 [00:07<00:05, 359881.34it/s]\n",
      " 53%|██████████████▊             | 2342912/4422102 [00:07<00:06, 298140.55it/s]\n",
      " 54%|███████████████▏            | 2400256/4422102 [00:07<00:05, 343344.47it/s]\n",
      " 55%|███████████████▌            | 2449408/4422102 [00:08<00:06, 290551.26it/s]\n",
      " 57%|███████████████▉            | 2514944/4422102 [00:08<00:06, 297956.76it/s]\n",
      " 58%|████████████████▏           | 2555904/4422102 [00:08<00:10, 173601.94it/s]\n",
      " 61%|█████████████████           | 2703360/4422102 [00:08<00:07, 234186.45it/s]\n",
      " 62%|█████████████████▍          | 2760704/4422102 [00:09<00:09, 174558.64it/s]\n",
      " 64%|██████████████████          | 2850816/4422102 [00:09<00:07, 198876.80it/s]\n",
      " 66%|██████████████████▍         | 2908160/4422102 [00:09<00:07, 210365.30it/s]\n",
      " 67%|██████████████████▋         | 2949120/4422102 [00:10<00:06, 219431.14it/s]\n",
      " 67%|██████████████████▉         | 2981888/4422102 [00:10<00:07, 182870.56it/s]\n",
      " 69%|███████████████████▏        | 3039232/4422102 [00:10<00:06, 207192.08it/s]\n",
      " 69%|███████████████████▍        | 3072000/4422102 [00:10<00:06, 206897.31it/s]\n",
      " 70%|███████████████████▋        | 3104768/4422102 [00:10<00:06, 209867.57it/s]\n",
      " 71%|███████████████████▊        | 3129344/4422102 [00:10<00:06, 202193.14it/s]\n",
      " 72%|████████████████████▏       | 3178496/4422102 [00:11<00:05, 215550.19it/s]\n",
      " 72%|████████████████████▎       | 3203072/4422102 [00:11<00:05, 205336.67it/s]\n",
      " 73%|████████████████████▍       | 3235840/4422102 [00:11<00:08, 146392.06it/s]\n",
      " 75%|████████████████████▉       | 3309568/4422102 [00:11<00:05, 186881.01it/s]\n",
      " 76%|█████████████████████▏      | 3342336/4422102 [00:11<00:05, 187345.17it/s]\n",
      " 76%|█████████████████████▎      | 3375104/4422102 [00:12<00:10, 103855.31it/s]\n",
      " 77%|██████████████████████▎      | 3399680/4422102 [00:12<00:11, 89929.61it/s]\n",
      " 77%|██████████████████████▍      | 3416064/4422102 [00:13<00:10, 94979.17it/s]\n",
      " 79%|█████████████████████▉      | 3473408/4422102 [00:13<00:09, 100844.46it/s]\n",
      " 80%|██████████████████████▎     | 3522560/4422102 [00:13<00:08, 108932.59it/s]\n",
      " 80%|███████████████████████▏     | 3538944/4422102 [00:14<00:10, 83665.76it/s]\n",
      " 81%|███████████████████████▎     | 3563520/4422102 [00:14<00:09, 93167.34it/s]\n",
      " 81%|███████████████████████▍     | 3579904/4422102 [00:14<00:09, 91754.14it/s]\n",
      " 81%|███████████████████████▌     | 3596288/4422102 [00:15<00:15, 52298.41it/s]\n",
      " 82%|███████████████████████▋     | 3620864/4422102 [00:15<00:14, 56957.52it/s]\n",
      " 82%|███████████████████████▊     | 3637248/4422102 [00:15<00:14, 54450.85it/s]\n",
      " 83%|███████████████████████▉     | 3653632/4422102 [00:16<00:14, 52267.57it/s]\n",
      " 83%|████████████████████████     | 3670016/4422102 [00:16<00:12, 59407.32it/s]\n",
      "26427392it [07:20, 30937.65it/s]                                               \n",
      " 84%|████████████████████████▏    | 3694592/4422102 [00:17<00:22, 31688.15it/s]\n",
      " 84%|████████████████████████▎    | 3710976/4422102 [00:18<00:28, 24916.89it/s]\n",
      " 84%|████████████████████████▍    | 3727360/4422102 [00:19<00:36, 18907.54it/s]\n",
      " 84%|████████████████████████▍    | 3735552/4422102 [00:20<00:42, 16171.88it/s]\n",
      " 85%|████████████████████████▌    | 3743744/4422102 [00:20<00:37, 18003.27it/s]\n",
      " 85%|████████████████████████▌    | 3751936/4422102 [00:21<00:52, 12747.81it/s]\n",
      " 85%|████████████████████████▋    | 3760128/4422102 [00:22<00:52, 12577.75it/s]\n",
      " 85%|█████████████████████████▌    | 3768320/4422102 [00:23<01:06, 9872.43it/s]\n",
      " 85%|████████████████████████▊    | 3776512/4422102 [00:24<00:56, 11331.14it/s]\n",
      " 86%|████████████████████████▊    | 3784704/4422102 [00:24<00:55, 11568.19it/s]\n",
      " 86%|████████████████████████▊    | 3792896/4422102 [00:25<00:53, 11795.85it/s]\n",
      " 86%|████████████████████████▉    | 3801088/4422102 [00:25<00:44, 13908.93it/s]\n",
      " 86%|████████████████████████▉    | 3809280/4422102 [00:26<00:38, 16015.00it/s]\n",
      " 86%|█████████████████████████    | 3817472/4422102 [00:26<00:34, 17773.94it/s]\n",
      " 87%|█████████████████████████    | 3825664/4422102 [00:26<00:30, 19281.34it/s]\n",
      " 87%|█████████████████████████▏   | 3833856/4422102 [00:27<00:28, 20529.06it/s]\n",
      " 87%|█████████████████████████▏   | 3842048/4422102 [00:27<00:27, 21169.88it/s]\n",
      " 87%|█████████████████████████▏   | 3850240/4422102 [00:28<00:25, 22097.95it/s]\n",
      " 87%|█████████████████████████▎   | 3858432/4422102 [00:28<00:29, 19316.32it/s]\n",
      " 88%|█████████████████████████▍   | 3874816/4422102 [00:28<00:21, 25821.39it/s]\n",
      " 88%|█████████████████████████▍   | 3883008/4422102 [00:29<00:21, 25353.18it/s]\n",
      " 88%|█████████████████████████▌   | 3891200/4422102 [00:29<00:16, 31573.22it/s]\n",
      " 88%|█████████████████████████▌   | 3899392/4422102 [00:29<00:21, 23847.07it/s]\n",
      " 88%|█████████████████████████▋   | 3907584/4422102 [00:29<00:18, 27766.38it/s]\n",
      " 89%|█████████████████████████▋   | 3923968/4422102 [00:30<00:19, 25128.94it/s]\n",
      " 89%|█████████████████████████▊   | 3932160/4422102 [00:31<00:24, 20192.79it/s]\n",
      " 89%|█████████████████████████▊   | 3940352/4422102 [00:31<00:19, 24994.23it/s]\n",
      " 89%|█████████████████████████▉   | 3948544/4422102 [00:32<00:33, 14311.24it/s]\n",
      " 89%|█████████████████████████▉   | 3956736/4422102 [00:32<00:28, 16485.14it/s]\n",
      " 90%|██████████████████████████   | 3964928/4422102 [00:33<00:28, 16127.45it/s]\n",
      " 90%|██████████████████████████   | 3973120/4422102 [00:34<00:36, 12241.96it/s]\n",
      " 90%|██████████████████████████   | 3981312/4422102 [00:35<00:35, 12571.97it/s]\n",
      " 90%|██████████████████████████▏  | 3989504/4422102 [00:35<00:29, 14703.04it/s]\n",
      " 90%|██████████████████████████▏  | 3997696/4422102 [00:36<00:30, 13842.73it/s]\n",
      " 91%|██████████████████████████▎  | 4005888/4422102 [00:36<00:28, 14811.95it/s]\n",
      " 91%|██████████████████████████▎  | 4014080/4422102 [00:37<00:27, 15093.46it/s]\n",
      " 91%|██████████████████████████▍  | 4022272/4422102 [00:37<00:23, 16709.59it/s]\n",
      " 91%|██████████████████████████▍  | 4030464/4422102 [00:38<00:29, 13214.83it/s]\n",
      " 92%|██████████████████████████▌  | 4046848/4422102 [00:39<00:25, 14573.73it/s]\n",
      " 92%|██████████████████████████▌  | 4055040/4422102 [00:39<00:20, 17488.24it/s]\n",
      " 92%|██████████████████████████▋  | 4063232/4422102 [00:39<00:20, 17885.65it/s]\n",
      " 92%|██████████████████████████▋  | 4071424/4422102 [00:40<00:22, 15619.04it/s]\n",
      " 92%|██████████████████████████▊  | 4079616/4422102 [00:41<00:23, 14301.32it/s]\n",
      " 92%|██████████████████████████▊  | 4087808/4422102 [00:41<00:20, 16250.55it/s]\n",
      " 93%|██████████████████████████▊  | 4096000/4422102 [00:41<00:18, 18071.39it/s]\n",
      " 93%|██████████████████████████▉  | 4104192/4422102 [00:42<00:20, 15547.84it/s]\n",
      " 93%|██████████████████████████▉  | 4112384/4422102 [00:42<00:17, 17637.59it/s]\n",
      " 93%|███████████████████████████  | 4120576/4422102 [00:43<00:15, 19637.22it/s]\n",
      " 93%|███████████████████████████  | 4128768/4422102 [00:43<00:13, 21263.57it/s]\n",
      " 94%|███████████████████████████▏ | 4136960/4422102 [00:43<00:12, 22405.64it/s]\n",
      " 94%|███████████████████████████▏ | 4145152/4422102 [00:44<00:11, 23541.64it/s]\n",
      " 94%|███████████████████████████▏ | 4153344/4422102 [00:44<00:10, 24942.63it/s]\n",
      " 94%|███████████████████████████▎ | 4161536/4422102 [00:44<00:09, 27829.60it/s]\n",
      " 94%|███████████████████████████▎ | 4169728/4422102 [00:44<00:07, 31984.60it/s]\n",
      " 94%|███████████████████████████▍ | 4177920/4422102 [00:45<00:07, 33362.38it/s]\n",
      " 95%|███████████████████████████▍ | 4186112/4422102 [00:45<00:07, 32058.89it/s]\n",
      " 95%|███████████████████████████▌ | 4202496/4422102 [00:45<00:05, 36819.03it/s]\n",
      " 95%|███████████████████████████▌ | 4210688/4422102 [00:45<00:05, 37714.92it/s]\n",
      " 96%|███████████████████████████▋ | 4227072/4422102 [00:46<00:04, 42320.58it/s]\n",
      " 96%|███████████████████████████▊ | 4243456/4422102 [00:46<00:03, 51951.56it/s]\n",
      " 96%|███████████████████████████▉ | 4251648/4422102 [00:46<00:03, 53981.87it/s]\n",
      " 96%|███████████████████████████▉ | 4259840/4422102 [00:46<00:02, 57605.83it/s]\n",
      " 97%|███████████████████████████▉ | 4268032/4422102 [00:46<00:02, 56218.36it/s]\n",
      " 97%|████████████████████████████ | 4284416/4422102 [00:46<00:01, 69398.87it/s]\n",
      " 97%|████████████████████████████▏| 4300800/4422102 [00:46<00:01, 78493.02it/s]\n",
      " 98%|████████████████████████████▎| 4317184/4422102 [00:47<00:01, 91178.22it/s]\n",
      " 98%|████████████████████████████▍| 4333568/4422102 [00:47<00:00, 94131.15it/s]\n",
      " 98%|████████████████████████████▌| 4349952/4422102 [00:47<00:01, 66693.47it/s]\n",
      " 99%|████████████████████████████▊| 4399104/4422102 [00:47<00:00, 87217.03it/s]\n",
      "100%|████████████████████████████▉| 4415488/4422102 [00:47<00:00, 96108.55it/s]"
     ]
    },
    {
     "name": "stdout",
     "output_type": "stream",
     "text": [
      "Extracting dataset/FashionMNIST\\raw\\t10k-images-idx3-ubyte.gz\n",
      "Downloading http://fashion-mnist.s3-website.eu-central-1.amazonaws.com/t10k-labels-idx1-ubyte.gz to dataset/FashionMNIST\\raw\\t10k-labels-idx1-ubyte.gz\n"
     ]
    },
    {
     "name": "stderr",
     "output_type": "stream",
     "text": [
      "\n",
      "\n",
      "0it [00:00, ?it/s]\n",
      "\n",
      "  0%|                                                 | 0/5148 [00:00<?, ?it/s]\n",
      "\n",
      "8192it [00:00, 12216.18it/s]                                                   "
     ]
    },
    {
     "name": "stdout",
     "output_type": "stream",
     "text": [
      "Extracting dataset/FashionMNIST\\raw\\t10k-labels-idx1-ubyte.gz\n",
      "Processing...\n",
      "Done!\n"
     ]
    },
    {
     "name": "stderr",
     "output_type": "stream",
     "text": [
      "\n",
      "4423680it [01:07, 96108.55it/s]                                                "
     ]
    }
   ],
   "source": [
    "# 数据预处理：标准化图像数据，使得灰度数据在-1到+1之间\n",
    "transform = transforms.Compose([transforms.ToTensor(),transforms.Normalize((0.5,), (0.5,))])\n",
    "\n",
    "# 下载Fashion-MNIST训练集数据，并构建训练集数据载入器trainloader,每次从训练集中载入64张图片，每次载入都打乱顺序\n",
    "trainset = datasets.FashionMNIST('dataset/', download=True, train=True, transform=transform)\n",
    "trainloader = torch.utils.data.DataLoader(trainset, batch_size=64, shuffle=True)\n",
    "\n",
    "# 下载Fashion-MNIST测试集数据，并构建测试集数据载入器trainloader,每次从测试集中载入64张图片，每次载入都打乱顺序\n",
    "testset = datasets.FashionMNIST('dataset/', download=True, train=False, transform=transform)\n",
    "testloader = torch.utils.data.DataLoader(testset, batch_size=64, shuffle=True)"
   ]
  },
  {
   "cell_type": "markdown",
   "metadata": {},
   "source": [
    "## 显示图片"
   ]
  },
  {
   "cell_type": "code",
   "execution_count": 5,
   "metadata": {
    "scrolled": false
   },
   "outputs": [
    {
     "name": "stdout",
     "output_type": "stream",
     "text": [
      "这张图片对应的标签是 外套\n"
     ]
    },
    {
     "data": {
      "image/png": "[encoded data removed]",
      "text/plain": [
       "<Figure size 432x288 with 1 Axes>"
      ]
     },
     "metadata": {
      "needs_background": "light"
     },
     "output_type": "display_data"
    }
   ],
   "source": [
    "image, label = next(iter(trainloader))\n",
    "\n",
    "# image图片中有64张图片，我们查看索引为2的图片\n",
    "imagedemo = image[3]\n",
    "imagedemolabel = label[3]\n",
    "\n",
    "imagedemo = imagedemo.reshape((28,28))\n",
    "\n",
    "import matplotlib.pyplot as plt\n",
    "%matplotlib inline\n",
    "plt.imshow(imagedemo)\n",
    "\n",
    "labellist = ['T恤','裤子','套衫','裙子','外套','凉鞋','汗衫','运动鞋','包包','靴子']\n",
    "print(f'这张图片对应的标签是 {labellist[imagedemolabel]}')"
   ]
  },
  {
   "cell_type": "markdown",
   "metadata": {},
   "source": [
    "# 2 打开数据集中的图片"
   ]
  },
  {
   "cell_type": "code",
   "execution_count": 6,
   "metadata": {},
   "outputs": [],
   "source": [
    "image, label = next(iter(trainloader))"
   ]
  },
  {
   "cell_type": "code",
   "execution_count": 7,
   "metadata": {},
   "outputs": [
    {
     "data": {
      "text/plain": [
       "torch.Size([64, 1, 28, 28])"
      ]
     },
     "execution_count": 7,
     "metadata": {},
     "output_type": "execute_result"
    }
   ],
   "source": [
    "image.shape"
   ]
  },
  {
   "cell_type": "markdown",
   "metadata": {},
   "source": [
    "image包含了64张28 * 28的灰度图片，1代表单通道，也就是灰度"
   ]
  },
  {
   "cell_type": "code",
   "execution_count": 8,
   "metadata": {},
   "outputs": [
    {
     "data": {
      "text/plain": [
       "tensor([2, 2, 3, 5, 4, 2, 6, 4, 5, 1, 6, 5, 1, 6, 4, 6, 6, 3, 4, 2, 2, 0, 2, 7,\n",
       "        9, 5, 8, 2, 5, 7, 1, 5, 0, 7, 3, 9, 6, 2, 2, 7, 1, 1, 4, 0, 8, 3, 7, 9,\n",
       "        9, 9, 8, 8, 9, 8, 7, 7, 6, 9, 9, 7, 4, 0, 7, 2])"
      ]
     },
     "execution_count": 8,
     "metadata": {},
     "output_type": "execute_result"
    }
   ],
   "source": [
    "label"
   ]
  },
  {
   "cell_type": "markdown",
   "metadata": {},
   "source": [
    "label包含了image里面64张图片对应的标签\n",
    "\n",
    "| 标注编号 | 描述 |\n",
    "| --- | --- |\n",
    "| 0 | T-shirt/top（T恤）|\n",
    "| 1 | Trouser（裤子）|\n",
    "| 2 | Pullover（套衫）|\n",
    "| 3 | Dress（裙子）|\n",
    "| 4 | Coat（外套）|\n",
    "| 5 | Sandal（凉鞋）|\n",
    "| 6 | Shirt（汗衫）|\n",
    "| 7 | Sneaker（运动鞋）|\n",
    "| 8 | Bag（包）|\n",
    "| 9 | Ankle boot（踝靴）|"
   ]
  },
  {
   "cell_type": "markdown",
   "metadata": {},
   "source": [
    "## 打开训练集中的一张图片看看"
   ]
  },
  {
   "cell_type": "code",
   "execution_count": 9,
   "metadata": {},
   "outputs": [],
   "source": [
    "imagedemo = image[2]\n",
    "imagedemolabel = label[2]"
   ]
  },
  {
   "cell_type": "code",
   "execution_count": 10,
   "metadata": {},
   "outputs": [
    {
     "data": {
      "text/plain": [
       "torch.Size([1, 28, 28])"
      ]
     },
     "execution_count": 10,
     "metadata": {},
     "output_type": "execute_result"
    }
   ],
   "source": [
    "imagedemo.shape"
   ]
  },
  {
   "cell_type": "code",
   "execution_count": 11,
   "metadata": {},
   "outputs": [],
   "source": [
    "imagedemo = imagedemo.reshape((28,28))"
   ]
  },
  {
   "cell_type": "code",
   "execution_count": 12,
   "metadata": {},
   "outputs": [
    {
     "data": {
      "text/plain": [
       "torch.Size([28, 28])"
      ]
     },
     "execution_count": 12,
     "metadata": {},
     "output_type": "execute_result"
    }
   ],
   "source": [
    "imagedemo.shape"
   ]
  },
  {
   "cell_type": "code",
   "execution_count": 13,
   "metadata": {},
   "outputs": [
    {
     "data": {
      "text/plain": [
       "tensor(3)"
      ]
     },
     "execution_count": 13,
     "metadata": {},
     "output_type": "execute_result"
    }
   ],
   "source": [
    "imagedemolabel"
   ]
  },
  {
   "cell_type": "code",
   "execution_count": 14,
   "metadata": {},
   "outputs": [],
   "source": [
    "import matplotlib.pyplot as plt\n",
    "%matplotlib inline"
   ]
  },
  {
   "cell_type": "code",
   "execution_count": 15,
   "metadata": {
    "scrolled": true
   },
   "outputs": [
    {
     "name": "stdout",
     "output_type": "stream",
     "text": [
      "这张图片对应的标签是 裙子\n"
     ]
    },
    {
     "data": {
      "image/png": "[encoded data removed]",
      "text/plain": [
       "<Figure size 432x288 with 1 Axes>"
      ]
     },
     "metadata": {
      "needs_background": "light"
     },
     "output_type": "display_data"
    }
   ],
   "source": [
    "plt.imshow(imagedemo)\n",
    "\n",
    "labellist = ['T恤','裤子','套衫','裙子','外套','凉鞋','汗衫','运动鞋','包包','靴子']\n",
    "print(f'这张图片对应的标签是 {labellist[imagedemolabel]}')"
   ]
  },
  {
   "cell_type": "markdown",
   "metadata": {},
   "source": [
    "## 查看一张图片和标签完整的代码"
   ]
  },
  {
   "cell_type": "code",
   "execution_count": 16,
   "metadata": {
    "scrolled": false
   },
   "outputs": [
    {
     "name": "stdout",
     "output_type": "stream",
     "text": [
      "这张图片对应的标签是 运动鞋\n"
     ]
    },
    {
     "data": {
      "image/png": "[encoded data removed]",
      "text/plain": [
       "<Figure size 432x288 with 1 Axes>"
      ]
     },
     "metadata": {
      "needs_background": "light"
     },
     "output_type": "display_data"
    }
   ],
   "source": [
    "image, label = next(iter(trainloader))\n",
    "\n",
    "# image图片中有64张图片，我们查看索引为2的图片\n",
    "imagedemo = image[3]\n",
    "imagedemolabel = label[3]\n",
    "\n",
    "imagedemo = imagedemo.reshape((28,28))\n",
    "\n",
    "import matplotlib.pyplot as plt\n",
    "%matplotlib inline\n",
    "plt.imshow(imagedemo)\n",
    "\n",
    "labellist = ['T恤','裤子','套衫','裙子','外套','凉鞋','汗衫','运动鞋','包包','靴子']\n",
    "print(f'这张图片对应的标签是 {labellist[imagedemolabel]}')"
   ]
  },
  {
   "cell_type": "markdown",
   "metadata": {},
   "source": [
    "# 2 搭建并训练四层全连接神经网络\n",
    "\n",
    "神经网络的输入为28 * 28 = 784 个像素<br>\n",
    "第一个隐含层包含256个神经元<br>\n",
    "第二个隐含层包含128个神经元<br>\n",
    "第三个隐含层包含64个神经元<br>\n",
    "输出层输出10个结果，对应图片的10种分类<br>"
   ]
  },
  {
   "cell_type": "code",
   "execution_count": 17,
   "metadata": {},
   "outputs": [],
   "source": [
    "from torch import nn, optim\n",
    "import torch.nn.functional as F\n",
    "\n",
    "class Classifier(nn.Module):\n",
    "    def __init__(self):\n",
    "        super().__init__()\n",
    "        self.fc1 = nn.Linear(784, 256)\n",
    "        self.fc2 = nn.Linear(256, 128)\n",
    "        self.fc3 = nn.Linear(128, 64)\n",
    "        self.fc4 = nn.Linear(64, 10)\n",
    "        \n",
    "    def forward(self, x):\n",
    "        # make sure input tensor is flattened\n",
    "        x = x.view(x.shape[0], -1)\n",
    "        \n",
    "        x = F.relu(self.fc1(x))\n",
    "        x = F.relu(self.fc2(x))\n",
    "        x = F.relu(self.fc3(x))\n",
    "        x = F.log_softmax(self.fc4(x), dim=1)\n",
    "        \n",
    "        return x"
   ]
  },
  {
   "cell_type": "code",
   "execution_count": 18,
   "metadata": {
    "scrolled": false
   },
   "outputs": [
    {
     "name": "stdout",
     "output_type": "stream",
     "text": [
      "开始训练\n",
      "训练集学习次数: 1/15..  训练误差: 0.512..  测试误差: 0.460..  模型分类准确率: 0.833\n",
      "训练集学习次数: 2/15..  训练误差: 0.391..  测试误差: 0.404..  模型分类准确率: 0.851\n",
      "训练集学习次数: 3/15..  训练误差: 0.354..  测试误差: 0.395..  模型分类准确率: 0.861\n",
      "训练集学习次数: 4/15..  训练误差: 0.331..  测试误差: 0.389..  模型分类准确率: 0.866\n",
      "训练集学习次数: 5/15..  训练误差: 0.318..  测试误差: 0.368..  模型分类准确率: 0.868\n",
      "训练集学习次数: 6/15..  训练误差: 0.305..  测试误差: 0.395..  模型分类准确率: 0.864\n",
      "训练集学习次数: 7/15..  训练误差: 0.292..  测试误差: 0.363..  模型分类准确率: 0.869\n",
      "训练集学习次数: 8/15..  训练误差: 0.287..  测试误差: 0.374..  模型分类准确率: 0.873\n",
      "训练集学习次数: 9/15..  训练误差: 0.277..  测试误差: 0.398..  模型分类准确率: 0.869\n",
      "训练集学习次数: 10/15..  训练误差: 0.268..  测试误差: 0.358..  模型分类准确率: 0.877\n",
      "训练集学习次数: 11/15..  训练误差: 0.263..  测试误差: 0.375..  模型分类准确率: 0.876\n",
      "训练集学习次数: 12/15..  训练误差: 0.257..  测试误差: 0.367..  模型分类准确率: 0.877\n",
      "训练集学习次数: 13/15..  训练误差: 0.249..  测试误差: 0.371..  模型分类准确率: 0.875\n",
      "训练集学习次数: 14/15..  训练误差: 0.245..  测试误差: 0.375..  模型分类准确率: 0.880\n",
      "训练集学习次数: 15/15..  训练误差: 0.236..  测试误差: 0.393..  模型分类准确率: 0.876\n"
     ]
    }
   ],
   "source": [
    "# 对上面定义的Classifier类进行实例化\n",
    "model = Classifier()\n",
    "\n",
    "# 定义损失函数为负对数损失函数\n",
    "criterion = nn.NLLLoss()\n",
    "\n",
    "# 优化方法为Adam梯度下降方法，学习率为0.003\n",
    "optimizer = optim.Adam(model.parameters(), lr=0.003)\n",
    "\n",
    "# 对训练集的全部数据学习15遍，这个数字越大，训练时间越长\n",
    "epochs = 15\n",
    "\n",
    "# 将每次训练的训练误差和测试误差存储在这两个列表里，后面绘制误差变化折线图用\n",
    "train_losses, test_losses = [], []\n",
    "\n",
    "print('开始训练')\n",
    "for e in range(epochs):\n",
    "    running_loss = 0\n",
    "    \n",
    "    # 对训练集中的所有图片都过一遍\n",
    "    for images, labels in trainloader:\n",
    "        # 将优化器中的求导结果都设为0，否则会在每次反向传播之后叠加之前的\n",
    "        optimizer.zero_grad()\n",
    "        \n",
    "        # 对64张图片进行推断，计算损失函数，反向传播优化权重，将损失求和\n",
    "        log_ps = model(images)\n",
    "        loss = criterion(log_ps, labels)\n",
    "        loss.backward()\n",
    "        optimizer.step()\n",
    "        running_loss += loss.item()\n",
    "    \n",
    "    # 每次学完一遍数据集，都进行以下测试操作\n",
    "    else:\n",
    "        test_loss = 0\n",
    "        accuracy = 0\n",
    "        # 测试的时候不需要开自动求导和反向传播\n",
    "        with torch.no_grad():\n",
    "            # 关闭Dropout\n",
    "            model.eval()\n",
    "            \n",
    "            # 对测试集中的所有图片都过一遍\n",
    "            for images, labels in testloader:\n",
    "                # 对传入的测试集图片进行正向推断、计算损失，accuracy为测试集一万张图片中模型预测正确率\n",
    "                log_ps = model(images)\n",
    "                test_loss += criterion(log_ps, labels)\n",
    "                ps = torch.exp(log_ps)\n",
    "                top_p, top_class = ps.topk(1, dim=1)\n",
    "                equals = top_class == labels.view(*top_class.shape)\n",
    "                \n",
    "                # 等号右边为每一批64张测试图片中预测正确的占比\n",
    "                accuracy += torch.mean(equals.type(torch.FloatTensor))\n",
    "        # 恢复Dropout\n",
    "        model.train()\n",
    "        # 将训练误差和测试误差存在两个列表里，后面绘制误差变化折线图用\n",
    "        train_losses.append(running_loss/len(trainloader))\n",
    "        test_losses.append(test_loss/len(testloader))\n",
    "\n",
    "        print(\"训练集学习次数: {}/{}.. \".format(e+1, epochs),\n",
    "              \"训练误差: {:.3f}.. \".format(running_loss/len(trainloader)),\n",
    "              \"测试误差: {:.3f}.. \".format(test_loss/len(testloader)),\n",
    "              \"模型分类准确率: {:.3f}\".format(accuracy/len(testloader)))"
   ]
  },
  {
   "cell_type": "markdown",
   "metadata": {},
   "source": [
    "# 3 验证模型效果"
   ]
  },
  {
   "cell_type": "markdown",
   "metadata": {},
   "source": [
    "## 绘制训练误差和测试误差随学习次数增加的变化"
   ]
  },
  {
   "cell_type": "code",
   "execution_count": 19,
   "metadata": {},
   "outputs": [],
   "source": [
    "import matplotlib.pyplot as plt\n",
    "%matplotlib inline"
   ]
  },
  {
   "cell_type": "code",
   "execution_count": 20,
   "metadata": {
    "scrolled": false
   },
   "outputs": [
    {
     "data": {
      "text/plain": [
       "<matplotlib.legend.Legend at 0x20c26474dd8>"
      ]
     },
     "execution_count": 20,
     "metadata": {},
     "output_type": "execute_result"
    },
    {
     "data": {
      "image/png": "[encoded data removed]",
      "text/plain": [
       "<Figure size 432x288 with 1 Axes>"
      ]
     },
     "metadata": {
      "needs_background": "light"
     },
     "output_type": "display_data"
    }
   ],
   "source": [
    "plt.plot(train_losses, label='Training loss')\n",
    "plt.plot(test_losses, label='Validation loss')\n",
    "plt.legend()"
   ]
  },
  {
   "cell_type": "code",
   "execution_count": 57,
   "metadata": {
    "scrolled": true
   },
   "outputs": [
    {
     "name": "stdout",
     "output_type": "stream",
     "text": [
      "神经网络猜测图片里是 T恤，概率为54.53718304634094%\n"
     ]
    },
    {
     "data": {
      "image/png": "[encoded data removed]",
      "text/plain": [
       "<Figure size 432x288 with 1 Axes>"
      ]
     },
     "metadata": {
      "needs_background": "light"
     },
     "output_type": "display_data"
    }
   ],
   "source": [
    "dataiter = iter(testloader)\n",
    "images, labels = dataiter.next()\n",
    "img = images[0]\n",
    "img = img.reshape((28,28)).numpy()\n",
    "plt.imshow(img)\n",
    "\n",
    "# 将测试图片转为一维的列向量\n",
    "img = torch.from_numpy(img)\n",
    "img = img.view(1, 784)\n",
    "\n",
    "# 进行正向推断，预测图片所在的类别\n",
    "with torch.no_grad():\n",
    "    output = model.forward(img)\n",
    "ps = torch.exp(output)\n",
    "\n",
    "top_p, top_class = ps.topk(1, dim=1)\n",
    "labellist = ['T恤','裤子','套衫','裙子','外套','凉鞋','汗衫','运动鞋','包包','靴子']\n",
    "prediction = labellist[top_class]\n",
    "probability = float(top_p)\n",
    "print(f'神经网络猜测图片里是 {prediction}，概率为{probability*100}%')"
   ]
  },
  {
   "cell_type": "markdown",
   "metadata": {},
   "source": [
    "# 4 采用Dropout方法防止过拟合"
   ]
  },
  {
   "cell_type": "code",
   "execution_count": 58,
   "metadata": {},
   "outputs": [],
   "source": [
    "class Classifier(nn.Module):\n",
    "    def __init__(self):\n",
    "        super().__init__()\n",
    "        self.fc1 = nn.Linear(784, 256)\n",
    "        self.fc2 = nn.Linear(256, 128)\n",
    "        self.fc3 = nn.Linear(128, 64)\n",
    "        self.fc4 = nn.Linear(64, 10)\n",
    "        \n",
    "        # 构造Dropout方法，在每次训练过程中都随机“掐死”百分之二十的神经元，防止过拟合。\n",
    "        self.dropout = nn.Dropout(p=0.2)\n",
    "        \n",
    "    def forward(self, x):\n",
    "        # 确保输入的tensor是展开的单列数据，把每张图片的通道、长度、宽度三个维度都压缩为一列\n",
    "        x = x.view(x.shape[0], -1)\n",
    "        \n",
    "        # 在训练过程中对隐含层神经元的正向推断使用Dropout方法\n",
    "        x = self.dropout(F.relu(self.fc1(x)))\n",
    "        x = self.dropout(F.relu(self.fc2(x)))\n",
    "        x = self.dropout(F.relu(self.fc3(x)))\n",
    "        \n",
    "        # 在输出单元不需要使用Dropout方法\n",
    "        x = F.log_softmax(self.fc4(x), dim=1)\n",
    "        \n",
    "        return x"
   ]
  },
  {
   "cell_type": "code",
   "execution_count": 59,
   "metadata": {},
   "outputs": [
    {
     "name": "stdout",
     "output_type": "stream",
     "text": [
      "开始训练\n",
      "训练集学习次数: 1/15..  训练误差: 0.608..  测试误差: 0.520..  模型分类准确率: 0.811\n",
      "训练集学习次数: 2/15..  训练误差: 0.482..  测试误差: 0.454..  模型分类准确率: 0.834\n",
      "训练集学习次数: 3/15..  训练误差: 0.450..  测试误差: 0.424..  模型分类准确率: 0.850\n",
      "训练集学习次数: 4/15..  训练误差: 0.434..  测试误差: 0.416..  模型分类准确率: 0.853\n",
      "训练集学习次数: 5/15..  训练误差: 0.424..  测试误差: 0.412..  模型分类准确率: 0.855\n",
      "训练集学习次数: 6/15..  训练误差: 0.411..  测试误差: 0.405..  模型分类准确率: 0.851\n",
      "训练集学习次数: 7/15..  训练误差: 0.407..  测试误差: 0.406..  模型分类准确率: 0.860\n",
      "训练集学习次数: 8/15..  训练误差: 0.401..  测试误差: 0.403..  模型分类准确率: 0.853\n",
      "训练集学习次数: 9/15..  训练误差: 0.391..  测试误差: 0.392..  模型分类准确率: 0.861\n",
      "训练集学习次数: 10/15..  训练误差: 0.390..  测试误差: 0.395..  模型分类准确率: 0.862\n",
      "训练集学习次数: 11/15..  训练误差: 0.385..  测试误差: 0.404..  模型分类准确率: 0.857\n",
      "训练集学习次数: 12/15..  训练误差: 0.381..  测试误差: 0.391..  模型分类准确率: 0.863\n",
      "训练集学习次数: 13/15..  训练误差: 0.382..  测试误差: 0.400..  模型分类准确率: 0.865\n",
      "训练集学习次数: 14/15..  训练误差: 0.381..  测试误差: 0.377..  模型分类准确率: 0.868\n",
      "训练集学习次数: 15/15..  训练误差: 0.372..  测试误差: 0.379..  模型分类准确率: 0.869\n"
     ]
    }
   ],
   "source": [
    "# 对上面定义的Classifier类进行实例化\n",
    "model = Classifier()\n",
    "\n",
    "# 定义损失函数为负对数损失函数\n",
    "criterion = nn.NLLLoss()\n",
    "\n",
    "# 优化方法为Adam梯度下降方法，学习率为0.003\n",
    "optimizer = optim.Adam(model.parameters(), lr=0.003)\n",
    "\n",
    "# 对训练集的全部数据学习15遍，这个数字越大，训练时间越长\n",
    "epochs = 15\n",
    "\n",
    "# 将每次训练的训练误差和测试误差存储在这两个列表里，后面绘制误差变化折线图用\n",
    "train_losses, test_losses = [], []\n",
    "\n",
    "print('开始训练')\n",
    "for e in range(epochs):\n",
    "    running_loss = 0\n",
    "    \n",
    "    # 对训练集中的所有图片都过一遍\n",
    "    for images, labels in trainloader:\n",
    "        # 将优化器中的求导结果都设为0，否则会在每次反向传播之后叠加之前的\n",
    "        optimizer.zero_grad()\n",
    "        \n",
    "        # 对64张图片进行推断，计算损失函数，反向传播优化权重，将损失求和\n",
    "        log_ps = model(images)\n",
    "        loss = criterion(log_ps, labels)\n",
    "        loss.backward()\n",
    "        optimizer.step()\n",
    "        running_loss += loss.item()\n",
    "    \n",
    "    # 每次学完一遍数据集，都进行以下测试操作\n",
    "    else:\n",
    "        test_loss = 0\n",
    "        accuracy = 0\n",
    "        # 测试的时候不需要开自动求导和反向传播\n",
    "        with torch.no_grad():\n",
    "            # 关闭Dropout\n",
    "            model.eval()\n",
    "            \n",
    "            # 对测试集中的所有图片都过一遍\n",
    "            for images, labels in testloader:\n",
    "                # 对传入的测试集图片进行正向推断、计算损失，accuracy为测试集一万张图片中模型预测正确率\n",
    "                log_ps = model(images)\n",
    "                test_loss += criterion(log_ps, labels)\n",
    "                ps = torch.exp(log_ps)\n",
    "                top_p, top_class = ps.topk(1, dim=1)\n",
    "                equals = top_class == labels.view(*top_class.shape)\n",
    "                \n",
    "                # 等号右边为每一批64张测试图片中预测正确的占比\n",
    "                accuracy += torch.mean(equals.type(torch.FloatTensor))\n",
    "        # 恢复Dropout\n",
    "        model.train()\n",
    "        # 将训练误差和测试误差存在两个列表里，后面绘制误差变化折线图用\n",
    "        train_losses.append(running_loss/len(trainloader))\n",
    "        test_losses.append(test_loss/len(testloader))\n",
    "\n",
    "        print(\"训练集学习次数: {}/{}.. \".format(e+1, epochs),\n",
    "              \"训练误差: {:.3f}.. \".format(running_loss/len(trainloader)),\n",
    "              \"测试误差: {:.3f}.. \".format(test_loss/len(testloader)),\n",
    "              \"模型分类准确率: {:.3f}\".format(accuracy/len(testloader)))"
   ]
  },
  {
   "cell_type": "code",
   "execution_count": 60,
   "metadata": {},
   "outputs": [],
   "source": [
    "import matplotlib.pyplot as plt\n",
    "%matplotlib inline"
   ]
  },
  {
   "cell_type": "code",
   "execution_count": 61,
   "metadata": {},
   "outputs": [
    {
     "data": {
      "text/plain": [
       "<matplotlib.legend.Legend at 0x20c2659ee48>"
      ]
     },
     "execution_count": 61,
     "metadata": {},
     "output_type": "execute_result"
    },
    {
     "data": {
      "image/png": "[encoded data removed]",
      "text/plain": [
       "<Figure size 432x288 with 1 Axes>"
      ]
     },
     "metadata": {
      "needs_background": "light"
     },
     "output_type": "display_data"
    }
   ],
   "source": [
    "plt.plot(train_losses, label='Training loss')\n",
    "plt.plot(test_losses, label='Validation loss')\n",
    "plt.legend()"
   ]
  },
  {
   "cell_type": "code",
   "execution_count": 105,
   "metadata": {},
   "outputs": [
    {
     "name": "stdout",
     "output_type": "stream",
     "text": [
      "神经网络猜测图片里是 T恤，概率为97.91023135185242%\n"
     ]
    },
    {
     "data": {
      "image/png": "[encoded data removed]",
      "text/plain": [
       "<Figure size 432x288 with 1 Axes>"
      ]
     },
     "metadata": {
      "needs_background": "light"
     },
     "output_type": "display_data"
    }
   ],
   "source": [
    "model.eval()\n",
    "dataiter = iter(testloader)\n",
    "images, labels = dataiter.next()\n",
    "img = images[0]\n",
    "img = img.reshape((28,28)).numpy()\n",
    "plt.imshow(img)\n",
    "\n",
    "# 将测试图片转为一维的列向量\n",
    "img = torch.from_numpy(img)\n",
    "img = img.view(1, 784)\n",
    "\n",
    "# 进行正向推断，预测图片所在的类别\n",
    "with torch.no_grad():\n",
    "    output = model.forward(img)\n",
    "ps = torch.exp(output)\n",
    "\n",
    "top_p, top_class = ps.topk(1, dim=1)\n",
    "labellist = ['T恤','裤子','套衫','裙子','外套','凉鞋','汗衫','运动鞋','包包','靴子']\n",
    "prediction = labellist[top_class]\n",
    "probability = float(top_p)\n",
    "print(f'神经网络猜测图片里是 {prediction}，概率为{probability*100}%')"
   ]
  },
  {
   "cell_type": "code",
   "execution_count": null,
   "metadata": {},
   "outputs": [],
   "source": []
  }
 ],
 "metadata": {
  "kernelspec": {
   "display_name": "Python 3",
   "language": "python",
   "name": "python3"
  },
  "language_info": {
   "codemirror_mode": {
    "name": "ipython",
    "version": 3
   },
   "file_extension": ".py",
   "mimetype": "text/x-python",
   "name": "python",
   "nbconvert_exporter": "python",
   "pygments_lexer": "ipython3",
   "version": "3.7.3"
  }
 },
 "nbformat": 4,
 "nbformat_minor": 2
}
